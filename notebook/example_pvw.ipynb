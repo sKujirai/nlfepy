{
 "cells": [
  {
   "cell_type": "markdown",
   "metadata": {
    "id": "X_8-kYCyWG2r"
   },
   "source": [
    "# Principle of virtual work\n",
    "\n",
    "[![Open In Colab](https://colab.research.google.com/assets/colab-badge.svg)](https://colab.research.google.com/github/sKujirai/nlfepy/blob/master/notebook/example_pvw.ipynb)"
   ]
  },
  {
   "cell_type": "markdown",
   "metadata": {
    "id": "FrSOihU-e0y4"
   },
   "source": [
    "## Theory"
   ]
  },
  {
   "cell_type": "markdown",
   "metadata": {
    "id": "C3fY5fPhpGzx"
   },
   "source": []
  },
  {
   "cell_type": "markdown",
   "metadata": {
    "id": "-ITuHOVwWxcP"
   },
   "source": [
    "### Governing equation\n",
    "The principle of virtual work, the governing equation of infinitesimal deformation problems, is written as follows, \n",
    "$$\n",
    "\\int_{\\mathscr{V}} \\boldsymbol{T} \\cdot \\breve{\\boldsymbol{E}} \\mathrm{d}v\n",
    "= \\oint_{\\mathscr{S}} \\mathop{\\boldsymbol{t}}^{\\scriptscriptstyle{(n)}} \\cdot \\breve{u} \\mathrm{d}a\n",
    "+ \\int_{\\mathscr{V}} \\rho \\boldsymbol{f} \\cdot \\breve{u} \\mathrm{d} v.\n",
    "$$\n",
    "- $\\boldsymbol{T}$: the Cauchy stress tensor\n",
    "- $\\breve{\\boldsymbol{E}}$: the virtual strain tensor\n",
    "- $\\displaystyle{\\mathop{\\boldsymbol{t}}^{\\scriptscriptstyle{(n)}}}$: the traction vector\n",
    "- $\\breve{\\boldsymbol{u}}$: the virtual displacement vector\n",
    "- $\\boldsymbol{f}$: the body force vector"
   ]
  },
  {
   "cell_type": "markdown",
   "metadata": {
    "id": "H2_iYc1tes4t"
   },
   "source": [
    "### Discretization\n",
    "The discretized version of the principle of virtual work is  expressed as\n",
    "$$\n",
    "\\int_{\\mathscr{V}^{\\mathrm{E}}} \\left[ \\boldsymbol{B} \\right]^{\\mathrm{T}} \\left[ \\boldsymbol{C}^{\\mathrm{e}} \\right] \\left[ \\boldsymbol{B} \\right] \\mathrm{d}v \\{ \\boldsymbol{u}^{I} \\}\n",
    "= \\oint_{\\mathscr{S}^{\\mathrm{E}}} \\left[ \\boldsymbol{N} \\right]^{\\mathrm{T}} \\{ \\mathop{\\boldsymbol{t}}^{\\scriptscriptstyle{(n)}} \\} \\mathrm{d}a\n",
    "+ \\int_{\\mathscr{V}^{\\mathrm{E}}} \\left[ \\boldsymbol{N} \\right]^{\\mathrm{T}} \\{ \\boldsymbol{f} \\} \\mathrm{d}v.\n",
    "$$\n",
    "- $[ \\boldsymbol{N} ]$: the shape function matrix\n",
    "- $[ \\boldsymbol{B} ]$: is the B matrix, the first derivative of the shape function\n",
    "- $[\\boldsymbol{C}^{\\mathrm{e}}]$: the elastic modulus matrix\n",
    "- $\\{ \\boldsymbol{u}^{I} \\} $: the displacement vector of node $I$\n",
    "\n",
    "The above equation is written as the element stiffness equation form as\n",
    "$$\n",
    "[ \\boldsymbol{k}^{\\mathrm{E}} ] \\{ \\boldsymbol{u}^{I} \\} = \\{ \\boldsymbol{f} \\}.\n",
    "$$\n",
    "- $[ \\boldsymbol{k}^{\\mathrm{E}} ]$: The element stiffness matrix\n",
    "$$\n",
    "[ \\boldsymbol{k}^{\\mathrm{E}} ] = \\int_{\\mathscr{V}^{\\mathrm{E}}} \\left[ \\boldsymbol{B} \\right]^{\\mathrm{T}} \\left[ \\boldsymbol{C}^{\\mathrm{e}} \\right] \\left[ \\boldsymbol{B} \\right] \\mathrm{d}v\n",
    "$$\n",
    "- $\\{ \\boldsymbol{f} \\} $: The element force vector\n",
    "$$\n",
    "\\{ \\boldsymbol{f} \\} = \\oint_{\\mathscr{S}^{\\mathrm{E}}} \\left[ \\boldsymbol{N} \\right]^{\\mathrm{T}} \\{ \\mathop{\\boldsymbol{t}}^{\\scriptscriptstyle{(n)}} \\} \\mathrm{d}a + \\int_{\\mathscr{V}^{\\mathrm{E}}} \\left[ \\boldsymbol{N} \\right]^{\\mathrm{T}} \\{ \\boldsymbol{f} \\} \\mathrm{d}v\n",
    "$$"
   ]
  },
  {
   "cell_type": "markdown",
   "metadata": {
    "id": "u3Ra_oZek3Mk"
   },
   "source": [
    "## Finite element analysis"
   ]
  },
  {
   "cell_type": "markdown",
   "metadata": {
    "id": "doSuN3jXk9oL"
   },
   "source": [
    "### Set up"
   ]
  },
  {
   "cell_type": "code",
   "execution_count": null,
   "metadata": {
    "colab": {
     "base_uri": "https://localhost:8080/"
    },
    "id": "Zk_5aTyaer_i",
    "outputId": "314820f9-2016-4e53-d2b2-612bb3c40169"
   },
   "outputs": [],
   "source": [
    "# Install nlfepy\n",
    "! pip install git+https://github.com/sKujirai/nlfepy"
   ]
  },
  {
   "cell_type": "markdown",
   "metadata": {
    "id": "wCDZxsZdliQk"
   },
   "source": [
    "### Generate mesh (or read your mesh file)"
   ]
  },
  {
   "cell_type": "code",
   "execution_count": null,
   "metadata": {
    "colab": {
     "base_uri": "https://localhost:8080/"
    },
    "id": "yrXvuf7PVd4j",
    "outputId": "4d488f9a-3ab7-49a8-b499-e10b28f8833c"
   },
   "outputs": [],
   "source": [
    "# Install dmsh to generate mesh\n",
    "! pip install dmsh"
   ]
  },
  {
   "cell_type": "code",
   "execution_count": null,
   "metadata": {
    "colab": {
     "base_uri": "https://localhost:8080/"
    },
    "id": "k08MO0mMlvZ1",
    "outputId": "d740ad11-75b8-4764-f153-61fc513125d1"
   },
   "outputs": [],
   "source": [
    "# Generate mesh\n",
    "import dmsh\n",
    "\n",
    "geo = dmsh.Rectangle(0., 1., 0., 1.)\n",
    "coords, connectivity = dmsh.generate(geo, 0.1)"
   ]
  },
  {
   "cell_type": "markdown",
   "metadata": {
    "id": "ASbSvDarl9Y3"
   },
   "source": [
    "### Mesh class"
   ]
  },
  {
   "cell_type": "code",
   "execution_count": null,
   "metadata": {
    "id": "Wx_olrFql19t"
   },
   "outputs": [],
   "source": [
    "from nlfepy import Mesh\n",
    "\n",
    "# Generate mesh class\n",
    "mesh = Mesh()\n",
    "\n",
    "# Set mesh shape\n",
    "mesh.set_shape(coords=coords.T, connectivity=connectivity)\n",
    "\n",
    "# Apply boundary conditions\n",
    "mesh.set_bc(constraint='compression', value=0.001)"
   ]
  },
  {
   "cell_type": "code",
   "execution_count": null,
   "metadata": {
    "colab": {
     "base_uri": "https://localhost:8080/",
     "height": 278
    },
    "id": "2K8MRsPRnPS0",
    "outputId": "96d2f542-4d8c-4c5a-98c4-c27e0267cca9"
   },
   "outputs": [],
   "source": [
    "# Check boundary consitions\n",
    "from nlfepy import Viewer\n",
    "\n",
    "# Instantiate viewer class\n",
    "viewer = Viewer()\n",
    "viewer.plot_bc(mesh)"
   ]
  },
  {
   "cell_type": "markdown",
   "metadata": {
    "id": "CYWenCxTmSiS"
   },
   "source": [
    "### Set material"
   ]
  },
  {
   "cell_type": "code",
   "execution_count": null,
   "metadata": {
    "id": "gaULTd9kmO9E"
   },
   "outputs": [],
   "source": [
    "from nlfepy import Material\n",
    "\n",
    "# Select aluminium\n",
    "mater = Material('Al')"
   ]
  },
  {
   "cell_type": "markdown",
   "metadata": {
    "id": "Dcicp8nmmom1"
   },
   "source": [
    "### Select constitutive equation (relation between stress and strain specific to material)"
   ]
  },
  {
   "cell_type": "code",
   "execution_count": null,
   "metadata": {
    "id": "M5zecJ4MmhQt"
   },
   "outputs": [],
   "source": [
    "from nlfepy import Variable, Constitutive\n",
    "\n",
    "# Physical quantities\n",
    "vals = Variable()\n",
    "\n",
    "# Set constitutive\n",
    "constitutive = Constitutive(\n",
    "    mater,\n",
    "    nitg=mesh.n_tintgp,\n",
    "    val=vals['itg']\n",
    ")"
   ]
  },
  {
   "cell_type": "markdown",
   "metadata": {
    "id": "shLg3KUInuDf"
   },
   "source": [
    "### Solve the governing equation"
   ]
  },
  {
   "cell_type": "code",
   "execution_count": null,
   "metadata": {
    "id": "Awby9reTnKfX"
   },
   "outputs": [],
   "source": [
    "from nlfepy.interface import PVW\n",
    "\n",
    "# Select principle of virtual work\n",
    "pvw = PVW(\n",
    "    mesh=mesh,\n",
    "    cnst=constitutive,\n",
    "    val=vals['point']\n",
    ")\n",
    "\n",
    "# Solve KU=F\n",
    "pvw.solve()"
   ]
  },
  {
   "cell_type": "code",
   "execution_count": null,
   "metadata": {
    "id": "cQGShU2Jn-T0"
   },
   "outputs": [],
   "source": [
    "from nlfepy.util import calc_element_value\n",
    "\n",
    "# Calc. stress (optional)\n",
    "pvw.calc_stress()\n",
    "\n",
    "# Calc. element values (for output)\n",
    "calc_element_value(mesh=mesh, values=vals)"
   ]
  },
  {
   "cell_type": "markdown",
   "metadata": {
    "id": "RZ2ogK9_oOcQ"
   },
   "source": [
    "### Show result"
   ]
  },
  {
   "cell_type": "code",
   "execution_count": null,
   "metadata": {
    "colab": {
     "base_uri": "https://localhost:8080/",
     "height": 278
    },
    "id": "WuWqJ4QVoIEF",
    "outputId": "38bfaad9-7a5b-4e42-b042-cf2478e1ed40"
   },
   "outputs": [],
   "source": [
    "# Plot the distribution of stress Tyy\n",
    "viewer.plot(\n",
    "    mesh=mesh,\n",
    "    val=vals['element']['stress'][:, 1],\n",
    "    title='Stress YY',\n",
    ")\n",
    "\n",
    "# Save as .png format\n",
    "viewer.save('result.png', transparent=True, dpi=300)"
   ]
  },
  {
   "cell_type": "code",
   "execution_count": null,
   "metadata": {
    "colab": {
     "base_uri": "https://localhost:8080/",
     "height": 313
    },
    "id": "01GDT9Dpoe-G",
    "outputId": "2272f224-cb5d-4feb-cef6-da38ce91a089"
   },
   "outputs": [],
   "source": [
    "# Contour plot (for 2D)\n",
    "\n",
    "viewer.contour(\n",
    "    mesh=mesh,\n",
    "    val=vals['point']['u_disp'][1],\n",
    "    title='Displacement Y'\n",
    ")"
   ]
  },
  {
   "cell_type": "markdown",
   "metadata": {
    "id": "tPm-ie0Mos6Z"
   },
   "source": [
    "### Save result as [VTK XML Formats](https://www.vtk.org/Wiki/VTK_XML_Formats)"
   ]
  },
  {
   "cell_type": "code",
   "execution_count": null,
   "metadata": {
    "id": "k-a1ytD6opVe"
   },
   "outputs": [],
   "source": [
    "from nlfepy.io import VtuWriter\n",
    "\n",
    "writer = VtuWriter(mesh=mesh, values=vals)\n",
    "writer.write('result.vtu') "
   ]
  }
 ],
 "metadata": {
  "colab": {
   "collapsed_sections": [],
   "name": "example_pvw.ipynb",
   "provenance": [],
   "toc_visible": true
  },
  "kernelspec": {
   "display_name": "Python 3",
   "name": "python3"
  }
 },
 "nbformat": 4,
 "nbformat_minor": 0
}
